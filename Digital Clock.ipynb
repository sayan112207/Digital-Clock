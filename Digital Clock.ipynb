{
 "cells": [
  {
   "cell_type": "markdown",
   "id": "3420824d",
   "metadata": {},
   "source": [
    "Importing Libraries"
   ]
  },
  {
   "cell_type": "code",
   "execution_count": 16,
   "id": "dd0e9d98",
   "metadata": {},
   "outputs": [],
   "source": [
    "from time import strftime\n",
    "from tkinter import Label, Tk"
   ]
  },
  {
   "cell_type": "markdown",
   "id": "49a43a00",
   "metadata": {},
   "source": [
    "Windows and Label Configuration for Clock"
   ]
  },
  {
   "cell_type": "code",
   "execution_count": 29,
   "id": "568ccd54",
   "metadata": {},
   "outputs": [],
   "source": [
    "#Window Config\n",
    "window = Tk()\n",
    "window.title(\"Digital Clock\")\n",
    "window.geometry(\"200x80\")\n",
    "window.configure(bg = \"black\")\n",
    "window.resizable(False, False) #This makes our window not resizable both height-wise and width-wise\n",
    "\n",
    "#Label config\n",
    "#Relied options: Flat, Raised, Sunken, Groove, Ridge\n",
    "clock_label = Label(window, bg=\"black\", fg=\"white\", font=(\"Times\",30,'bold'), relief='raised')\n",
    "\n",
    "clock_label.place(x=20, y=20)\n",
    "\n",
    "def updating_label():\n",
    "    current_time = strftime('%H: %M: %S')\n",
    "    clock_label.configure(text = current_time)\n",
    "    clock_label.after(80, updating_label) #Update the value of current time after every 80 milliseconds"
   ]
  },
  {
   "cell_type": "markdown",
   "id": "c3708899",
   "metadata": {},
   "source": [
    "Displaying our Digital Clock"
   ]
  },
  {
   "cell_type": "code",
   "execution_count": 30,
   "id": "01399419",
   "metadata": {},
   "outputs": [],
   "source": [
    "updating_label()\n",
    "window.mainloop() #This is used to prevent the window from exiting immediately"
   ]
  }
 ],
 "metadata": {
  "kernelspec": {
   "display_name": "Python 3 (ipykernel)",
   "language": "python",
   "name": "python3"
  },
  "language_info": {
   "codemirror_mode": {
    "name": "ipython",
    "version": 3
   },
   "file_extension": ".py",
   "mimetype": "text/x-python",
   "name": "python",
   "nbconvert_exporter": "python",
   "pygments_lexer": "ipython3",
   "version": "3.9.13"
  }
 },
 "nbformat": 4,
 "nbformat_minor": 5
}
